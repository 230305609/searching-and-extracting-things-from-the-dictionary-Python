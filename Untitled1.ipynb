{
  "nbformat": 4,
  "nbformat_minor": 0,
  "metadata": {
    "colab": {
      "provenance": [],
      "authorship_tag": "ABX9TyOqrunGhUVtPdcbrHmUrrq8",
      "include_colab_link": true
    },
    "kernelspec": {
      "name": "python3",
      "display_name": "Python 3"
    },
    "language_info": {
      "name": "python"
    }
  },
  "cells": [
    {
      "cell_type": "markdown",
      "metadata": {
        "id": "view-in-github",
        "colab_type": "text"
      },
      "source": [
        "<a href=\"https://colab.research.google.com/github/230305609/searching-and-extracting-things-from-the-dictionary-Python/blob/main/Untitled1.ipynb\" target=\"_parent\"><img src=\"https://colab.research.google.com/assets/colab-badge.svg\" alt=\"Open In Colab\"/></a>"
      ]
    },
    {
      "cell_type": "code",
      "execution_count": 1,
      "metadata": {
        "colab": {
          "base_uri": "https://localhost:8080/"
        },
        "id": "9eJVuSk7Ctuu",
        "outputId": "41c054b8-bbc5-4705-9768-4bde92579dcb"
      },
      "outputs": [
        {
          "output_type": "execute_result",
          "data": {
            "text/plain": [
              "['exok1', 'exok2', 'exok3']"
            ]
          },
          "metadata": {},
          "execution_count": 1
        }
      ],
      "source": [
        "pacientes = {'Paciente_A':{'Genes':['BRCA1','BRCA2'],'variantes':{'intronicas':['var1','var2','var3'],'exonicas':['ex1','ex2','ex3']}},\n",
        "             'Paciente_B':{'Genes':['XPA','XPC','XPE'],'variantes':{'intronicas':['varok3','varok2','varok1'],'exonicas':['exok1','exok2','exok3']}}}\n",
        "\n",
        "pacientes['Paciente_B']['variantes']['exonicas']"
      ]
    },
    {
      "cell_type": "code",
      "source": [
        "pacientes = {'Paciente_A':{'Genes':['BRCA1','BRCA2'],'variantes':{'intronicas':['var1','var2','var3'],'exonicas':['ex1','ex2','ex3']}},'Paciente_B':{'Genes':['XPA','XPC','XPE'],'variantes':{'intronicas':['varok3','varok2','varok1'],'exonicas':['exok1','exok2','exok3']}}}\n",
        "\n",
        "print(pacientes['Paciente_A']['variantes']['exonicas'])\n",
        "print(pacientes['Paciente_B']['variantes']['exonicas'])"
      ],
      "metadata": {
        "colab": {
          "base_uri": "https://localhost:8080/"
        },
        "id": "Vdp8LTNCV3z3",
        "outputId": "c8c1459c-ff8d-4811-d9fb-860ac2256870"
      },
      "execution_count": 3,
      "outputs": [
        {
          "output_type": "stream",
          "name": "stdout",
          "text": [
            "['ex1', 'ex2', 'ex3']\n",
            "['exok1', 'exok2', 'exok3']\n"
          ]
        }
      ]
    }
  ]
}